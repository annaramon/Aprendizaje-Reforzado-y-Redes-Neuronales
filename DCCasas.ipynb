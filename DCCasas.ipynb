{
  "cells": [
    {
      "cell_type": "markdown",
      "metadata": {
        "id": "V7cAgChVUwds"
      },
      "source": [
        "# Parte 1: DCCasas"
      ]
    },
    {
      "cell_type": "markdown",
      "metadata": {
        "id": "oTO5ytHCUwdv"
      },
      "source": [
        "Nota de los ayudantes: Por motivos de desempeño de las redes neuronales, recomendamos realizar esta tarea en Google Colab."
      ]
    },
    {
      "cell_type": "markdown",
      "metadata": {
        "id": "M-yem7k6Uwdv"
      },
      "source": [
        "### Importando los datos"
      ]
    },
    {
      "cell_type": "code",
      "execution_count": null,
      "metadata": {
        "id": "kMokEfMbUwdv"
      },
      "outputs": [],
      "source": [
        "# Importamos las librerías necesarias\n",
        "import pandas as pd\n",
        "import numpy as np\n",
        "import matplotlib.pyplot as plt\n",
        "plt.style.use(\"ggplot\")\n",
        "import os\n",
        "from tqdm import tqdm\n",
        "import cv2\n",
        "from sklearn.model_selection import train_test_split\n",
        "from sklearn.preprocessing import StandardScaler, LabelEncoder\n",
        "import tensorflow as tf\n",
        "import tensorflow.keras as keras\n",
        "from tensorflow.keras.models import Sequential\n",
        "from tensorflow.keras.layers import Dense, Activation, Dropout, Input, Embedding, Concatenate\n",
        "from tensorflow.keras.models import Model\n",
        "from tensorflow.keras.utils import to_categorical\n",
        "from datetime import datetime\n",
        "from scipy.sparse import csr_matrix"
      ]
    },
    {
      "cell_type": "code",
      "execution_count": null,
      "metadata": {
        "id": "ltyCRhhqUwdw"
      },
      "outputs": [],
      "source": [
        "# Creamos una semilla para que los resultados sean replicables\n",
        "n_alumno = None\n",
        "np.random.seed(n_alumno)"
      ]
    },
    {
      "cell_type": "code",
      "execution_count": null,
      "metadata": {
        "id": "rsPVftSHUwdw"
      },
      "outputs": [],
      "source": [
        "# Definimos el path al csv\n",
        "# path = # Rellena con el path a la carpeta 'multimodal_house_prices/'\n",
        "path = 'multimodal_house_prices/'\n",
        "\n",
        "# Importamos el csv\n",
        "meta_data = pd.read_csv(path + \"data.csv\")\n",
        "\n",
        "# Veamos las primeras 5 observaciones\n",
        "meta_data.head()"
      ]
    },
    {
      "cell_type": "code",
      "execution_count": null,
      "metadata": {
        "id": "uCLsETV_Uwdx"
      },
      "outputs": [],
      "source": [
        "# Preparación de datos para el MLP\n",
        "X_mlp = meta_data.drop(['price', 'image_id'], axis=1)\n",
        "\n",
        "# Definir la variable objetivo\n",
        "y = np.array(meta_data[\"price\"].tolist())\n",
        "\n",
        "# Función para extraer características de una imagen\n",
        "def image_processing(file):\n",
        "    image = cv2.imread(file)\n",
        "\n",
        "    # Obtén las dimensiones de la imagen\n",
        "    height, width = image.shape[:2]\n",
        "\n",
        "    # Verifica si la imagen ya tiene las dimensiones deseadas\n",
        "    if height == 311 and width == 415:\n",
        "        return image\n",
        "    else:\n",
        "        # Redimensiona la imagen a 415x311 con interpolación lineal\n",
        "        resized_image = cv2.resize(image, (415, 311), interpolation=cv2.INTER_LINEAR)\n",
        "        return resized_image\n",
        "    return image\n",
        "\n",
        "# Lista vacía para guardar los datos procesados\n",
        "extracted_cnn = []\n",
        "\n",
        "# Iterar sobre cada fila del DataFrame\n",
        "for index_num, row in tqdm(meta_data.iterrows()):\n",
        "    # Obtener el path de la imagen\n",
        "    file_name = os.path.join(os.path.abspath(path), 'images/' +  str(row['image_id']) + '.jpg')\n",
        "\n",
        "    # Obtener el valor objetivo (por ejemplo, el precio)\n",
        "    target_value = row['price']\n",
        "\n",
        "    # Usar la función definida arriba para procesar la imagen\n",
        "    data = image_processing(file_name)\n",
        "\n",
        "    # Guardar la imagen redimensionada\n",
        "    extracted_cnn.append(data)\n",
        "\n",
        "# Definir los datos para la CNN\n",
        "X_cnn = np.array(extracted_cnn)"
      ]
    },
    {
      "cell_type": "markdown",
      "metadata": {
        "id": "YVjXRfRxUwdx"
      },
      "source": [
        "### Actividad 1: Importando y comprendiendo los datos"
      ]
    },
    {
      "cell_type": "markdown",
      "metadata": {
        "id": "IGgYkav_Uwdx"
      },
      "source": [
        "* Investiga y describe por qué el preprocesamiento es una etapa crucial para las redes neuronales. Explica cómo los pasos de preprocesamiento pueden afectar el rendimiento de un modelo."
      ]
    },
    {
      "cell_type": "markdown",
      "metadata": {
        "id": "PoZdYj2zUwdx"
      },
      "source": []
    },
    {
      "cell_type": "markdown",
      "metadata": {
        "id": "6K4O-hZwUwdx"
      },
      "source": [
        "* Si tuviéramos pocas imágenes para entrenar un modelo, ¿qué técnicas podrías usar para enriquecer el conjunto de datos? Investiga sobre el aumento de datos en imágenes."
      ]
    },
    {
      "cell_type": "markdown",
      "metadata": {
        "id": "48_n2utFUwdx"
      },
      "source": []
    },
    {
      "cell_type": "markdown",
      "metadata": {
        "id": "AyiFnWTBUwdx"
      },
      "source": [
        "### Actividad 2: Explorando los Multilayer Perceptron (MLP)"
      ]
    },
    {
      "cell_type": "markdown",
      "metadata": {
        "id": "ccjYq2qkUwdx"
      },
      "source": [
        "* Discute cómo la profundidad y el ancho (número de capas y neuronas por capa) de un MLP afectan su capacidad para aprender patrones complejos. ¿Cuáles son los desafíos relacionados con el aumento de la complejidad del modelo?"
      ]
    },
    {
      "cell_type": "markdown",
      "metadata": {
        "id": "d73iSTucUwdy"
      },
      "source": []
    },
    {
      "cell_type": "markdown",
      "metadata": {
        "id": "O08-EHcSUwdy"
      },
      "source": [
        "* Investiga y compara al menos dos funciones de activación no lineales diferentes utilizadas en MLPs. ¿Cómo afectan estas funciones al tipo de decisiones que puede aprender la red? Considera aspectos como la saturación y la no linealidad."
      ]
    },
    {
      "cell_type": "markdown",
      "metadata": {
        "id": "vDUL-v1JUwdy"
      },
      "source": []
    },
    {
      "cell_type": "markdown",
      "metadata": {
        "id": "VxjHZH2sUwdy"
      },
      "source": [
        "* Examina las causas y síntomas del overfitting en MLP. ¿Qué técnicas se pueden aplicar para prevenir este problema y cómo afectan el proceso de aprendizaje?"
      ]
    },
    {
      "cell_type": "markdown",
      "metadata": {
        "id": "yKKyeeHFUwdy"
      },
      "source": []
    },
    {
      "cell_type": "markdown",
      "metadata": {
        "id": "LtOC5rrGUwdy"
      },
      "source": [
        "* Más allá del SGD (Stochastic Gradient Descent) y Adam, investiga sobre otro método de optimización utilizado en el entrenamiento de MLP. ¿Cuáles son sus características únicas y en qué situaciones podría ser preferible?"
      ]
    },
    {
      "cell_type": "markdown",
      "metadata": {
        "id": "Cof3uL6iUwdy"
      },
      "source": []
    },
    {
      "cell_type": "markdown",
      "metadata": {
        "id": "ErZH-VjGUwdy"
      },
      "source": [
        "* Identifica y analiza un estudio de caso donde se haya utilizado un MLP para resolver un problema real. ¿Qué características del problema hicieron que un MLP fuera una buena elección y cómo se diseñó la arquitectura de la red para adaptarse a las necesidades específicas del problema?"
      ]
    },
    {
      "cell_type": "markdown",
      "metadata": {
        "id": "bygCiS5QUwdz"
      },
      "source": []
    },
    {
      "cell_type": "markdown",
      "metadata": {
        "id": "XMHn8RiUUwdz"
      },
      "source": [
        "### Implementación de un Multilayer Perceptron (MLP)"
      ]
    },
    {
      "cell_type": "markdown",
      "metadata": {
        "id": "AcwnO8QmUwdz"
      },
      "source": [
        "* Implementa un MLP con al menos dos capas ocultas. Entrena tu modelo en el conjunto de datos de entrenamiento y realiza ajustes en los hiperparámetros (como la tasa de aprendizaje, número de neuronas, funciones de activación) para mejorar el rendimiento del modelo."
      ]
    },
    {
      "cell_type": "code",
      "execution_count": null,
      "metadata": {
        "id": "hHCRziArUwdz"
      },
      "outputs": [],
      "source": []
    },
    {
      "cell_type": "markdown",
      "metadata": {
        "id": "j-_SlLZPUwdz"
      },
      "source": [
        "* Evalúa el rendimiento de tu modelo en el conjunto de datos de prueba. Utiliza métricas relevantes para problemas de regresión, como el error cuadrático medio (MSE)."
      ]
    },
    {
      "cell_type": "code",
      "execution_count": null,
      "metadata": {
        "id": "1UMB6ivYUwdz"
      },
      "outputs": [],
      "source": []
    },
    {
      "cell_type": "markdown",
      "metadata": {
        "id": "oCDURbHcUwdz"
      },
      "source": [
        "*  Realiza al menos dos experimentos variando la arquitectura del MLP o los hiperparámetros. Describe cómo cada cambio afecta el rendimiento del modelo y discute tus hallazgos."
      ]
    },
    {
      "cell_type": "code",
      "execution_count": null,
      "metadata": {
        "id": "Ondu1b7tUwdz"
      },
      "outputs": [],
      "source": []
    },
    {
      "cell_type": "markdown",
      "metadata": {
        "id": "V28KO-EDUwdz"
      },
      "source": [
        "* Basado en tus resultados, ¿cuáles son las características más importantes de un MLP para la predicción precisa en este conjunto de datos? ¿Cómo relacionas esto con la teoría aprendida?"
      ]
    },
    {
      "cell_type": "markdown",
      "metadata": {
        "id": "Nn0NvqU5Uwdz"
      },
      "source": []
    },
    {
      "cell_type": "markdown",
      "metadata": {
        "id": "iYw2Sx1TUwd0"
      },
      "source": [
        "* Describe los desafíos que encontraste al implementar y entrenar el MLP. ¿Cómo los superaste y qué aprendiste en el proceso? ¿en qué otros tipos de problemas crees que un MLP podría ser efectivo?"
      ]
    },
    {
      "cell_type": "markdown",
      "metadata": {
        "id": "H0dRndduUwd0"
      },
      "source": []
    },
    {
      "cell_type": "markdown",
      "metadata": {
        "id": "Kv_G6ngrUwd0"
      },
      "source": [
        "### Introducción y teoría de las CNN's"
      ]
    },
    {
      "cell_type": "markdown",
      "metadata": {
        "id": "V2YX1M70W-9n"
      },
      "source": [
        "* ¿Qué es una operación convolucional? ¿Qué es un *kernel*? Utiliza estos conceptos para explicar el rol de las capas convolucionales en una CNN."
      ]
    },
    {
      "cell_type": "markdown",
      "metadata": {
        "id": "CS5VZBTCXQ-t"
      },
      "source": []
    },
    {
      "cell_type": "markdown",
      "metadata": {
        "id": "NG-L7hYhXRdx"
      },
      "source": [
        "* ¿Cuál es el rol de las funciones de activación? ¿Y de las capas de *Max Pooling*?"
      ]
    },
    {
      "cell_type": "markdown",
      "metadata": {
        "id": "uIluL3gkXcWJ"
      },
      "source": []
    },
    {
      "cell_type": "markdown",
      "metadata": {
        "id": "5_Lbzpt6Xcym"
      },
      "source": [
        "* Quizás habrás notado que la mayoría de arquitecturas de CNN's utilizan una última capa conocida como *flatten layer*. ¿Cúal es su función? ¿Cuál es el rol de la función *softmax* en ella?"
      ]
    },
    {
      "cell_type": "markdown",
      "metadata": {
        "id": "2UgAad43XoE7"
      },
      "source": [
        "¿Cuáles son las ventajas y desventajas de las CNN's frente a las MLP's? ¿Para qué tipo de tareas suele ser útil utilizar CNN's?"
      ]
    },
    {
      "cell_type": "markdown",
      "metadata": {
        "id": "mUJOOc51XqjP"
      },
      "source": []
    },
    {
      "cell_type": "markdown",
      "metadata": {
        "id": "MRwswHqCXzrQ"
      },
      "source": [
        "### Creando y evaluando una CNN"
      ]
    },
    {
      "cell_type": "markdown",
      "metadata": {
        "id": "GNIli_avYa9T"
      },
      "source": [
        "\n",
        "Para entrenar nuestra red neuronal, utilizaremos la librería de [`TensorFlow`](https://www.tensorflow.org/api_docs/python/tf/all_symbols), podemos instalar esta librería mediante la línea `pip install tensorflow`.\n",
        "\n",
        "TensorFlow es una librería desarrollada por Google que nos permite construir, entrenar e implementar modelos de aprendizaje profundo en Python.\n",
        "\n",
        "Para esto, TensorFlow nos permite armar una red en forma de \"capas\", [en el siguiente link encontrarás un tutorial más en detalle de cómo crear un modelo de TensorFlow](https://towardsdatascience.com/building-our-first-neural-network-in-keras-bdc8abbc17f5). Deberemos introducir todas las capas de nuestra red dentro de un objeto `tf.keras.Sequential()`, que recibe de parámetro una lista con todos los elementos de nuestra red.\n",
        "\n",
        "<br>\n",
        "\n",
        "A continuación se enumeran los tres principales elementos que utilizaremos en nuestro modelo:\n",
        "- `tf.keras.Input(shape = a)`: La capa de entrada de la red, es la primera que recibe. Necesita de un parámetro `shape` que determinará la dimensionalidad del vector de entrada, esto será entregado en una tupla `a` (ej. `(5, 2)`).\n",
        "\n",
        "- `tf.keras.layers.Dense(units = b, activation = 'relu')`: Corresponde a una capa intermedia de la red del tipo *Fully Connected*, le entregaremos un parámetro `units` que determinará cuántas unidades ocultas (neuronas) tendrá la capa (y por tanto, el número de componentes en el vector de salida de la capa, en este caso `b`). Además, recibirá una función de activación para cada neurona, esta puede ser del tipo `relu`, `tanh`, `softmax` u otras, para más detalle sobre ellas visitar [el siguiente link](https://www.tensorflow.org/api_docs/python/tf/keras/activations). Recomendamos usar `relu` para capas intermedias.\n",
        "\n",
        "- `tf.keras.layers.Dense(units = c, activation = 'softmax')`: Similar a lo explicado anteriormente, corresponde a una capa densa de activación `softmax`. Esta corresponderá a la capa final del modelo, con `c` el número de elementos que deseamos que nuestro vector de salida tenga. El uso de una función softmax se debe a que esta nos permite llevar la salida de nuestra neurona a un conjunto de probabilidades normalizadas, desde el cual podemos calcular qué acción jugar. [En el siguiente link](https://deepai.org/machine-learning-glossary-and-terms/softmax-layer) se explica el funcionamiento de esta función en mayor detalle.\n",
        "\n",
        "<br>\n",
        "\n",
        "Un ejemplo de una red simple sería:\n",
        "```\n",
        "model = tf.keras.Sequential([\n",
        "    tf.keras.Input(shape = a),\n",
        "    tf.keras.layers.Dense(b, activation = \"relu\"),\n",
        "    tf.keras.layers.Dense(c, activation = \"softmax\")\n",
        "])\n",
        "```\n",
        "\n",
        "Recuerda revisar las redes, tutoriales y tips del enunciado para ayudarte a confeccionar tu propia arquitectura. A continuación, importaremos algunas librerías que podrían ser útiles para tu desarrollo."
      ]
    },
    {
      "cell_type": "code",
      "execution_count": null,
      "metadata": {
        "id": "R1Mo3jemki9y"
      },
      "outputs": [],
      "source": [
        "import os\n",
        "import random\n",
        "import numpy as np\n",
        "import pandas as pd\n",
        "import matplotlib.pyplot as plt\n",
        "\n",
        "from keras.preprocessing.image import load_img, img_to_array\n",
        "from sklearn.model_selection import train_test_split\n",
        "\n",
        "import tensorflow as tf\n",
        "from tensorflow.keras import Sequential\n",
        "from tensorflow.keras.layers import Conv2D, MaxPooling2D, Flatten, Dense, Dropout, BatchNormalization\n",
        "\n",
        "\n",
        "\n",
        "from tensorflow.keras.utils import to_categorical\n",
        "from matplotlib.ticker import (MultipleLocator, FormatStrFormatter)\n",
        "from dataclasses import dataclass"
      ]
    },
    {
      "cell_type": "markdown",
      "metadata": {
        "id": "Rboz01yNXqQ1"
      },
      "source": [
        "Primero, preprocesaremos los datos para poder entrenar nuestra red neuronal."
      ]
    },
    {
      "cell_type": "markdown",
      "metadata": {
        "id": "2AbPIMK8r9LK"
      },
      "source": [
        "Descarga el dataset si no lo has hecho:"
      ]
    },
    {
      "cell_type": "code",
      "execution_count": null,
      "metadata": {
        "colab": {
          "base_uri": "https://localhost:8080/"
        },
        "id": "NSg1NX5mrGoi",
        "outputId": "301bed1d-b58f-4923-9a4d-cb8f90bde933"
      },
      "outputs": [
        {
          "name": "stdout",
          "output_type": "stream",
          "text": [
            "Downloading...\n",
            "From: https://drive.google.com/uc?id=1078WtQHBTCe5amlDtfu3bgPbO9PFd31R\n",
            "To: /content/multimodal_house_prices.zip\n",
            "100% 317M/317M [00:02<00:00, 142MB/s]\n"
          ]
        }
      ],
      "source": [
        "!gdown https://drive.google.com/uc?id=1078WtQHBTCe5amlDtfu3bgPbO9PFd31R\n",
        "!unzip --qq multimodal_house_prices.zip"
      ]
    },
    {
      "cell_type": "markdown",
      "metadata": {
        "id": "gSj-VA0EsCb4"
      },
      "source": [
        "Para poder usar nuestros datos en CNN, necesitamos hacer un leve preprocesamiento de los mismos. Para ello, debemos asociar las imágenes de cada casa con su respectivo precio."
      ]
    },
    {
      "cell_type": "code",
      "execution_count": null,
      "metadata": {
        "id": "axUH1pD5r_pd"
      },
      "outputs": [],
      "source": [
        "base_path = '/content/multimodal_house_prices'\n",
        "csv_file = os.path.join(base_path, 'data.csv')\n",
        "images_folder = os.path.join(base_path, 'images')\n",
        "\n",
        "data = pd.read_csv(csv_file)\n",
        "\n",
        "# Modificar cantidad de dataset y tamaño imágenes para ahorrar espacio en memoria.\n",
        "new_data = data.sample(frac=0.6)\n",
        "image_size = (156, 208)\n",
        "\n",
        "image_data = []\n",
        "prices = []\n",
        "\n",
        "for _, row in new_data.iterrows():\n",
        "    img_filename = os.path.join(images_folder, str(row['image_id']) + '.jpg')\n",
        "\n",
        "    img = load_img(img_filename, target_size=image_size)\n",
        "    img_array = img_to_array(img)\n",
        "\n",
        "    img_array = img_array / 255.0\n",
        "\n",
        "    image_data.append(img_array)\n",
        "    prices.append(row['price'])\n",
        "\n",
        "\n",
        "image_data = np.array(image_data)\n",
        "prices = np.array(prices)\n",
        "\n",
        "\n",
        "# Divide aquí tus datos\n",
        "X_train, X_test, y_train, y_test = train_test_split(image_data, prices, test_size=0.2)\n",
        "\n",
        "# Recuerda borrar los numpy array para ahorrar memoria.\n",
        "del image_data\n",
        "del prices"
      ]
    },
    {
      "cell_type": "code",
      "execution_count": null,
      "metadata": {
        "id": "VRTy_25YclNY"
      },
      "outputs": [],
      "source": [
        "# ===== COMPLETAR =====\n",
        "# Se debe crear un modelo para nuestra red neuronal, añade cuantas capas ocultas desees, con cuantas neuronas desees\n",
        "\n",
        "# ====================="
      ]
    },
    {
      "cell_type": "code",
      "execution_count": null,
      "metadata": {
        "id": "sxyzyV12e189"
      },
      "outputs": [],
      "source": [
        "# ===== COMPLETAR =====\n",
        "# Compila tu modelo de TensorFlow\n",
        "\n",
        "# ====================="
      ]
    },
    {
      "cell_type": "code",
      "execution_count": null,
      "metadata": {
        "id": "CS8fFkace6PL"
      },
      "outputs": [],
      "source": [
        "# ===== COMPLETAR =====\n",
        "# Entrena tu modelo de TensorFlow utilizando su método .fit()\n",
        "\n",
        "# ====================="
      ]
    },
    {
      "cell_type": "code",
      "execution_count": null,
      "metadata": {
        "id": "ckWVoC9jgk9U"
      },
      "outputs": [],
      "source": [
        "# ===== COMPLETAR =====\n",
        "# Grafica tu función de pérdida.\n",
        "\n",
        "# ====================="
      ]
    },
    {
      "cell_type": "markdown",
      "metadata": {
        "id": "7lzW0zc5ZgDN"
      },
      "source": [
        "###Comparación de modelos\n",
        "A continuación, responde las siguientes preguntas relacionadas a comparar ambos tipos de redes neuronales:"
      ]
    },
    {
      "cell_type": "markdown",
      "metadata": {
        "id": "uXq1m9l4Ztql"
      },
      "source": [
        "* ¿Cuál de los modelos tiene un mejor *accuracy*?"
      ]
    },
    {
      "cell_type": "markdown",
      "metadata": {
        "id": "ulfQGNBkZy5x"
      },
      "source": []
    },
    {
      "cell_type": "markdown",
      "metadata": {
        "id": "6AC8pTyIZzRh"
      },
      "source": [
        "* ¿Qué rangos de precios tienen un mejor rendimiento? ¿Y cuáles el peor? ¿Depende del modelo?"
      ]
    },
    {
      "cell_type": "markdown",
      "metadata": {
        "id": "H-rhb_CyZ3mp"
      },
      "source": []
    }
  ],
  "metadata": {
    "colab": {
      "provenance": []
    },
    "kernelspec": {
      "display_name": "Python 3 (ipykernel)",
      "language": "python",
      "name": "python3"
    },
    "language_info": {
      "codemirror_mode": {
        "name": "ipython",
        "version": 3
      },
      "file_extension": ".py",
      "mimetype": "text/x-python",
      "name": "python",
      "nbconvert_exporter": "python",
      "pygments_lexer": "ipython3",
      "version": "3.8.10"
    }
  },
  "nbformat": 4,
  "nbformat_minor": 0
}
